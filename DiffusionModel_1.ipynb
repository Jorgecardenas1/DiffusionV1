{
 "cells": [
  {
   "cell_type": "code",
   "execution_count": 1,
   "id": "757c917c-eeec-4a15-a9fe-eab967a134b1",
   "metadata": {
    "tags": []
   },
   "outputs": [
    {
     "name": "stdout",
     "output_type": "stream",
     "text": [
      "getcwd:       /Users/jorgehernancardenas/Documents/AIProjects/Octubre 2023/DiffusionV1\n"
     ]
    },
    {
     "name": "stderr",
     "output_type": "stream",
     "text": [
      "2023-10-24 09:33:48.608922: I tensorflow/core/platform/cpu_feature_guard.cc:182] This TensorFlow binary is optimized to use available CPU instructions in performance-critical operations.\n",
      "To enable the following instructions: AVX2 AVX512F AVX512_VNNI FMA, in other operations, rebuild TensorFlow with the appropriate compiler flags.\n"
     ]
    }
   ],
   "source": [
    "import sys  \n",
    "sys.path.insert(0, '../druida_V01/src/')\n",
    "\n",
    "import os\n",
    "print('getcwd:      ', os.getcwd())\n",
    "getcwd=os.getcwd()\n",
    "abspath=os.path.abspath(getcwd)\n",
    "\n",
    "from __future__ import print_function\n",
    "#from Utilities.SaveAnimation import Video\n",
    "\n",
    "\n",
    "from druida import Stack\n",
    "\n",
    "import random\n",
    "import numpy as np\n",
    "import pandas as pd\n",
    "from sklearn.model_selection import train_test_split\n",
    "import argparse\n",
    "\n",
    "import torch\n",
    "import torch.nn as nn\n",
    "import torch.optim as optimizer\n",
    "\n",
    "from torchsummary import summary\n",
    "from torch.utils.data import TensorDataset\n",
    "from torch.utils.data import DataLoader\n",
    "from torcheval.metrics import BinaryAccuracy\n",
    "\n",
    "from torchvision import datasets\n",
    "import torchvision.transforms as transforms\n",
    "from torchvision.transforms import ToTensor, Lambda\n",
    "import torchvision.utils as vutils\n",
    "\n",
    "\n",
    "import matplotlib.pyplot as plt\n",
    "import matplotlib.animation as animation\n",
    "import argparse\n",
    "\n",
    "from IPython.display import HTML\n",
    "\n",
    "random.seed(1)"
   ]
  },
  {
   "cell_type": "code",
   "execution_count": 4,
   "id": "2b442104-7642-4260-9316-75762cebda94",
   "metadata": {},
   "outputs": [],
   "source": [
    "def launch():\n",
    "    \n",
    "    parser = argparse.ArgumentParser()\n",
    "    DMparser = argparse.ArgumentParser()\n",
    "\n",
    "    \n",
    "    parser.add_argument(\"run_name\",type=str)\n",
    "    parser.add_argument(\"epochs\",type=int)\n",
    "    parser.add_argument(\"batch_size\",type=int)\n",
    "    parser.add_argument(\"workers\",type=int)\n",
    "    parser.add_argument(\"gpu_number\",type=int)\n",
    "    parser.add_argument(\"device\",type=str)\n",
    "    parser.add_argument(\"learning_rate\",type=float)\n",
    "\n",
    "    parser.run_name = \"DDPM_Uncondtional\"\n",
    "    parser.epochs = 1\n",
    "    parser.batch_size = 1\n",
    "    parser.workers=0\n",
    "    parser.gpu_number=0\n",
    "    parser.image_size = 64\n",
    "    parser.dataset_path = \"/Users/jorgehernancardenas/Documents/AIProjects/Octubre 2023/DiffusionV1/MSDataset\"\n",
    "    parser.device = \"cpu\"\n",
    "    parser.learning_rate = 3e-4\n",
    "    \n",
    "    \n",
    "    \n",
    "    DMparser.add_argument(\"image_size\",type=int)\n",
    "    DMparser.add_argument(\"dataset_path\",type=str)\n",
    "    DMparser.image_size = 64\n",
    "    DMparser.dataset_path = \"/Users/jorgehernancardenas/Documents/AIProjects/Octubre 2023/DiffusionV1/MSDataset\"\n",
    "\n",
    "    \n",
    "    trainer=Stack.Trainer(parser)\n",
    "    \n",
    "    trainer.train_DM(DMparser)"
   ]
  },
  {
   "cell_type": "code",
   "execution_count": null,
   "id": "0aeeacb2-4338-48f7-8130-b91d0881513f",
   "metadata": {
    "tags": []
   },
   "outputs": [
    {
     "name": "stderr",
     "output_type": "stream",
     "text": [
      "09:34:39 - INFO: Starting epoch 0:\n",
      "  1%|          | 12/1676 [00:11<26:39,  1.04it/s, MSE=0.963]"
     ]
    }
   ],
   "source": [
    "launch()"
   ]
  },
  {
   "cell_type": "code",
   "execution_count": null,
   "id": "328c432f-c902-4183-8170-50c2852d7349",
   "metadata": {
    "jupyter": {
     "source_hidden": true
    },
    "tags": []
   },
   "outputs": [],
   "source": []
  },
  {
   "cell_type": "markdown",
   "id": "c79a2931-2290-44a5-8f8d-e8dc9fe2abb1",
   "metadata": {},
   "source": [
    "## References\n",
    "\n",
    "[Transformers and Multi-Head Attention](https://uvadlc-notebooks.readthedocs.io/en/latest/tutorial_notebooks/tutorial6/Transformers_and_MHAttention.html)\n",
    "\n",
    "[UNET with Pytorch](https://github.com/milesial/Pytorch-UNet/tree/67bf11b4db4c5f2891bd7e8e7f58bcde8ee2d2db)\n",
    "\n",
    "[Conditional and Unconditional Diffusion Model](https://github.com/dome272/Diffusion-Models-pytorch)\n",
    "\n",
    "[Difussion Models derivation](https://lilianweng.github.io/posts/2021-07-11-diffusion-models/)\n",
    "\n",
    "[Encoders and autoencoders](https://lilianweng.github.io/posts/2018-08-12-vae/#reparameterization-trick)\n",
    "\n",
    "[Understanding Diffusion Probabilistic Models (DPMs)](https://towardsdatascience.com/understanding-diffusion-probabilistic-models-dpms-1940329d6048)\n",
    "\n",
    "\n",
    "\n"
   ]
  },
  {
   "cell_type": "code",
   "execution_count": null,
   "id": "f68885a3-afae-4723-bd81-84dc2610ee0e",
   "metadata": {},
   "outputs": [],
   "source": []
  }
 ],
 "metadata": {
  "kernelspec": {
   "display_name": "Python 3 (ipykernel)",
   "language": "python",
   "name": "python3"
  },
  "language_info": {
   "codemirror_mode": {
    "name": "ipython",
    "version": 3
   },
   "file_extension": ".py",
   "mimetype": "text/x-python",
   "name": "python",
   "nbconvert_exporter": "python",
   "pygments_lexer": "ipython3",
   "version": "3.10.12"
  }
 },
 "nbformat": 4,
 "nbformat_minor": 5
}
